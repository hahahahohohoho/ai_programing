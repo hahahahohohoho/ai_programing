{
 "cells": [
  {
   "cell_type": "code",
   "execution_count": 1,
   "id": "9e73646a-080d-4189-81ac-37aa068e5e63",
   "metadata": {},
   "outputs": [],
   "source": [
    "import numpy as np"
   ]
  },
  {
   "cell_type": "markdown",
   "id": "9569b411",
   "metadata": {},
   "source": [
    "# 2.2 Universal Function"
   ]
  },
  {
   "cell_type": "code",
   "execution_count": 5,
   "id": "43d86af1",
   "metadata": {},
   "outputs": [],
   "source": [
    "def calc(values) :\n",
    "    results = []\n",
    "    for i in values :\n",
    "        results.append(1/i)\n",
    "    return results"
   ]
  },
  {
   "cell_type": "markdown",
   "id": "16e3cd50",
   "metadata": {},
   "source": []
  },
  {
   "cell_type": "code",
   "execution_count": 14,
   "id": "a65e0352",
   "metadata": {},
   "outputs": [
    {
     "data": {
      "text/plain": [
       "10000000"
      ]
     },
     "execution_count": 14,
     "metadata": {},
     "output_type": "execute_result"
    }
   ],
   "source": [
    "data = np.random.randint(1, 100, 10000000)\n",
    "len(calc(data))"
   ]
  },
  {
   "cell_type": "code",
   "execution_count": 15,
   "id": "25158190",
   "metadata": {},
   "outputs": [
    {
     "name": "stdout",
     "output_type": "stream",
     "text": [
      "1.32 s ± 9.52 ms per loop (mean ± std. dev. of 7 runs, 1 loop each)\n"
     ]
    }
   ],
   "source": [
    "%timeit calc(data)"
   ]
  },
  {
   "cell_type": "code",
   "execution_count": 16,
   "id": "9237f34a",
   "metadata": {},
   "outputs": [
    {
     "data": {
      "text/plain": [
       "10000000"
      ]
     },
     "execution_count": 16,
     "metadata": {},
     "output_type": "execute_result"
    }
   ],
   "source": [
    "data = range(1, 10000001)\n",
    "len(calc(data))"
   ]
  },
  {
   "cell_type": "code",
   "execution_count": 17,
   "id": "8211e71b",
   "metadata": {},
   "outputs": [
    {
     "name": "stdout",
     "output_type": "stream",
     "text": [
      "798 ms ± 13.2 ms per loop (mean ± std. dev. of 7 runs, 1 loop each)\n"
     ]
    }
   ],
   "source": [
    "%timeit calc(data)"
   ]
  },
  {
   "cell_type": "markdown",
   "id": "a4a54efd",
   "metadata": {},
   "source": [
    "numpy가 일반 python 연산보다 훨씬 빠르다!!"
   ]
  },
  {
   "cell_type": "code",
   "execution_count": 35,
   "id": "91069ed6",
   "metadata": {},
   "outputs": [],
   "source": [
    "class Int :\n",
    "    def __init__(self, x) :\n",
    "        self._x = x\n",
    "    def __add__(self, other) :\n",
    "        return self._x + other._x \n",
    "    def __sub__(self, other) :\n",
    "        return self._x - other._x"
   ]
  },
  {
   "cell_type": "code",
   "execution_count": 38,
   "id": "b113b539",
   "metadata": {},
   "outputs": [
    {
     "data": {
      "text/plain": [
       "(3, -1)"
      ]
     },
     "execution_count": 38,
     "metadata": {},
     "output_type": "execute_result"
    }
   ],
   "source": [
    "a = Int(1)\n",
    "b = Int(2)\n",
    "a + b, a-b"
   ]
  },
  {
   "cell_type": "markdown",
   "id": "3c43d18c",
   "metadata": {},
   "source": [
    "numpy가 빠른 이유는 python에서는 데이터 타입이 정해져 있지 않지만, numpy는 개발자가 타입을 다 지정해둬서 연산이 빠르다!\n",
    ">list는 여전히 안되니 np.array활용"
   ]
  },
  {
   "cell_type": "markdown",
   "id": "c65ae379",
   "metadata": {},
   "source": [
    "# NumPy 유니버설 함수(Ufuncs) 책 P.59"
   ]
  },
  {
   "cell_type": "code",
   "execution_count": 91,
   "id": "6f84762c",
   "metadata": {},
   "outputs": [
    {
     "name": "stdout",
     "output_type": "stream",
     "text": [
      "x    = [0 1 2 3]\n",
      "x + 5 = [5 6 7 8]\n",
      "x - 5 = [-5 -4 -3 -2]\n",
      "x*2 = [0 2 4 6]\n",
      "x/2= [0.  0.5 1.  1.5]\n",
      "x//2 = [0 0 1 1]\n"
     ]
    }
   ],
   "source": [
    "# np.array에 연산을 하면 모든 값들에 연산이 적용!\n",
    "x = np.arange(4)\n",
    "print(\"x    =\", x)\n",
    "print(\"x + 5 =\", x+5)\n",
    "print(\"x - 5 =\", x-5)\n",
    "print(\"x*2 =\", x*2)\n",
    "print(\"x/2=\", x/2)\n",
    "print(\"x//2 =\", x//2)"
   ]
  },
  {
   "cell_type": "code",
   "execution_count": 42,
   "id": "a88d97f9",
   "metadata": {},
   "outputs": [
    {
     "name": "stdout",
     "output_type": "stream",
     "text": [
      "-x   =  [ 0 -1 -2 -3]\n",
      "x ** 2 =  [0 1 4 9]\n",
      "x % 2 =  [0 1 0 1]\n"
     ]
    }
   ],
   "source": [
    "print(\"-x   = \", -x)\n",
    "print(\"x ** 2 = \", x**2)\n",
    "print(\"x % 2 = \", x%2)"
   ]
  },
  {
   "cell_type": "code",
   "execution_count": 44,
   "id": "57a5788d",
   "metadata": {},
   "outputs": [
    {
     "data": {
      "text/plain": [
       "array([-1.  , -2.25, -4.  , -6.25])"
      ]
     },
     "execution_count": 44,
     "metadata": {},
     "output_type": "execute_result"
    }
   ],
   "source": [
    "-(0.5 * x +1) **2"
   ]
  },
  {
   "cell_type": "code",
   "execution_count": 46,
   "id": "45de2cf5",
   "metadata": {},
   "outputs": [
    {
     "data": {
      "text/plain": [
       "array([2, 3, 4, 5])"
      ]
     },
     "execution_count": 46,
     "metadata": {},
     "output_type": "execute_result"
    }
   ],
   "source": [
    "np.add(x, 2)"
   ]
  },
  {
   "cell_type": "code",
   "execution_count": 47,
   "id": "0ffbb66f",
   "metadata": {},
   "outputs": [
    {
     "data": {
      "text/plain": [
       "array([2, 1, 0, 1, 2])"
      ]
     },
     "execution_count": 47,
     "metadata": {},
     "output_type": "execute_result"
    }
   ],
   "source": [
    "x = np.array([-2, -1, 0, 1, 2])\n",
    "abs(x)"
   ]
  },
  {
   "cell_type": "code",
   "execution_count": 49,
   "id": "d457bd0d",
   "metadata": {},
   "outputs": [
    {
     "data": {
      "text/plain": [
       "(array([2, 1, 0, 1, 2]), array([2, 1, 0, 1, 2]))"
      ]
     },
     "execution_count": 49,
     "metadata": {},
     "output_type": "execute_result"
    }
   ],
   "source": [
    "np.absolute(x), np.abs(x)"
   ]
  },
  {
   "cell_type": "code",
   "execution_count": 50,
   "id": "456b996d",
   "metadata": {},
   "outputs": [
    {
     "data": {
      "text/plain": [
       "array([5., 5., 2., 1.])"
      ]
     },
     "execution_count": 50,
     "metadata": {},
     "output_type": "execute_result"
    }
   ],
   "source": [
    "x = np.array([3-4j, 4-3j, 2+0j, 0_1j])\n",
    "np.abs(x)"
   ]
  },
  {
   "cell_type": "code",
   "execution_count": 52,
   "id": "597f9bd7",
   "metadata": {},
   "outputs": [],
   "source": [
    "theta = np.linspace(0, np.pi, 3)"
   ]
  },
  {
   "cell_type": "code",
   "execution_count": 54,
   "id": "d9127e5f",
   "metadata": {},
   "outputs": [
    {
     "name": "stdout",
     "output_type": "stream",
     "text": [
      "theta = [0.         1.57079633 3.14159265]\n",
      "sin(theta) =  [0.0000000e+00 1.0000000e+00 1.2246468e-16]\n",
      "cos(theta)= [ 1.000000e+00  6.123234e-17 -1.000000e+00]\n",
      "tan(theta) =  [ 0.00000000e+00  1.63312394e+16 -1.22464680e-16]\n"
     ]
    }
   ],
   "source": [
    "print(\"theta =\", theta)\n",
    "print(\"sin(theta) = \", np.sin(theta))\n",
    "print(\"cos(theta)=\", np.cos(theta))\n",
    "print(\"tan(theta) = \", np.tan(theta))"
   ]
  },
  {
   "cell_type": "code",
   "execution_count": 56,
   "id": "ed22b723",
   "metadata": {},
   "outputs": [
    {
     "name": "stdout",
     "output_type": "stream",
     "text": [
      "x =  [-1, 0, 1]\n",
      "acrsin(x) =  [-1.57079633  0.          1.57079633]\n",
      "acrcos(x) =  [3.14159265 1.57079633 0.        ]\n",
      "acrtan(x) =  [-0.78539816  0.          0.78539816]\n"
     ]
    }
   ],
   "source": [
    "x = [-1, 0, 1]\n",
    "print(\"x = \", x)\n",
    "print(\"acrsin(x) = \", np.arcsin(x))\n",
    "print(\"acrcos(x) = \", np.arccos(x))\n",
    "print(\"acrtan(x) = \", np.arctan(x))"
   ]
  },
  {
   "cell_type": "code",
   "execution_count": 57,
   "id": "417f095b",
   "metadata": {},
   "outputs": [
    {
     "name": "stdout",
     "output_type": "stream",
     "text": [
      "x =  [1, 2, 3]\n",
      "e^x =  [ 2.71828183  7.3890561  20.08553692]\n",
      "2^x =  [2. 4. 8.]\n",
      "3^x =  [ 3  9 27]\n"
     ]
    }
   ],
   "source": [
    "x = [1, 2, 3]\n",
    "print(\"x = \", x)\n",
    "print(\"e^x = \", np.exp(x))\n",
    "print(\"2^x = \", np.exp2(x))\n",
    "print(\"3^x = \", np.power(3,x))"
   ]
  },
  {
   "cell_type": "code",
   "execution_count": 58,
   "id": "cf7d47f8",
   "metadata": {},
   "outputs": [
    {
     "name": "stdout",
     "output_type": "stream",
     "text": [
      "x =  [1, 2, 4, 10]\n",
      "ln(x) =  [0.         0.69314718 1.38629436 2.30258509]\n",
      "log2(x) =  [0.         1.         2.         3.32192809]\n",
      "log10(x) =  [0.         0.30103    0.60205999 1.        ]\n"
     ]
    }
   ],
   "source": [
    "x = [1, 2, 4, 10]\n",
    "print(\"x = \", x)\n",
    "print(\"ln(x) = \", np.log(x))\n",
    "print(\"log2(x) = \", np.log2(x))\n",
    "print(\"log10(x) = \", np.log10(x))"
   ]
  },
  {
   "cell_type": "code",
   "execution_count": 59,
   "id": "c366b1d4",
   "metadata": {},
   "outputs": [
    {
     "name": "stdout",
     "output_type": "stream",
     "text": [
      "exp(x) =  [0.         0.0010005  0.01005017 0.10517092]\n",
      "log(1+x) =  [0.         0.0009995  0.00995033 0.09531018]\n"
     ]
    }
   ],
   "source": [
    "x = [0, 0.001, 0.01, 0.1]\n",
    "print(\"exp(x) = \", np.expm1(x))\n",
    "print(\"log(1+x) = \", np.log1p(x))"
   ]
  },
  {
   "cell_type": "markdown",
   "id": "b4894392",
   "metadata": {},
   "source": [
    "### 특화된 유니버설 함수 scipy(싸이파이)"
   ]
  },
  {
   "cell_type": "code",
   "execution_count": 61,
   "id": "05bb9cfd",
   "metadata": {},
   "outputs": [],
   "source": [
    "from scipy import special"
   ]
  },
  {
   "cell_type": "code",
   "execution_count": 63,
   "id": "e99f1c5a",
   "metadata": {},
   "outputs": [
    {
     "name": "stdout",
     "output_type": "stream",
     "text": [
      "gamma(x) =  [1.0000e+00 2.4000e+01 3.6288e+05]\n",
      "ln:gamma(x) =  [ 0.          3.17805383 12.80182748]\n",
      "beta(x) =  [0.5        0.03333333 0.00909091]\n"
     ]
    }
   ],
   "source": [
    "#감마 함수(일반화된 계승)와 관련 함수\n",
    "x = [1, 5, 10]\n",
    "print(\"gamma(x) = \", special.gamma(x))\n",
    "print(\"ln:gamma(x) = \", special.gammaln(x))\n",
    "print(\"beta(x) = \", special.beta(x,2))"
   ]
  },
  {
   "cell_type": "code",
   "execution_count": 64,
   "id": "526e33fa",
   "metadata": {},
   "outputs": [
    {
     "name": "stdout",
     "output_type": "stream",
     "text": [
      "erf(x) =  [0.         0.32862676 0.67780119 0.84270079]\n",
      "erfc(x) =  [1.         0.67137324 0.32219881 0.15729921]\n",
      "erfinv(x) =  [0.         0.27246271 0.73286908        inf]\n"
     ]
    }
   ],
   "source": [
    "# 오차 함수(가우스 적분), 그 보수(complement)와 역수(inverse)\n",
    "x = np.array([0, 0.3, 0.7, 1.0])\n",
    "print(\"erf(x) = \", special.erf(x))\n",
    "print(\"erfc(x) = \", special.erfc(x))\n",
    "print(\"erfinv(x) = \", special.erfinv(x))"
   ]
  },
  {
   "cell_type": "code",
   "execution_count": 69,
   "id": "ba969305",
   "metadata": {},
   "outputs": [
    {
     "name": "stdout",
     "output_type": "stream",
     "text": [
      "[ 0. 10. 20. 30. 40.]\n"
     ]
    }
   ],
   "source": [
    "# 출력 지정 : 연산결과를 저장할 임시배열(y)설정 out을 이용하여 출력을 지정할 수 있다.\n",
    "x= np.arange(5)\n",
    "y = np.empty(5)\n",
    "np.multiply(x, 10, out=y)\n",
    "print(y)"
   ]
  },
  {
   "cell_type": "code",
   "execution_count": 70,
   "id": "f47afbf2",
   "metadata": {},
   "outputs": [
    {
     "name": "stdout",
     "output_type": "stream",
     "text": [
      "[ 1.  0.  2.  0.  4.  0.  8.  0. 16.  0.]\n"
     ]
    }
   ],
   "source": [
    "y=np.zeros(10)\n",
    "np.power(2, x, out=y[::2])\n",
    "print(y)"
   ]
  },
  {
   "cell_type": "code",
   "execution_count": 71,
   "id": "db21d407",
   "metadata": {},
   "outputs": [
    {
     "data": {
      "text/plain": [
       "15"
      ]
     },
     "execution_count": 71,
     "metadata": {},
     "output_type": "execute_result"
    }
   ],
   "source": [
    "# 집계 : reduce 메서드는 결과가 하나만 남을 때까지 해당 연산을 배열 요소에 반복해 적용\n",
    "# 예시1. add + reduce 를 통해 1 ~ 5까지의 합을 구함\n",
    "x = np.arange(1, 6)\n",
    "np.add.reduce(x)"
   ]
  },
  {
   "cell_type": "code",
   "execution_count": 72,
   "id": "a49db50c",
   "metadata": {},
   "outputs": [
    {
     "data": {
      "text/plain": [
       "120"
      ]
     },
     "execution_count": 72,
     "metadata": {},
     "output_type": "execute_result"
    }
   ],
   "source": [
    "np.multiply.reduce(x)"
   ]
  },
  {
   "cell_type": "code",
   "execution_count": 73,
   "id": "f1198c74",
   "metadata": {},
   "outputs": [
    {
     "data": {
      "text/plain": [
       "array([ 1,  3,  6, 10, 15])"
      ]
     },
     "execution_count": 73,
     "metadata": {},
     "output_type": "execute_result"
    }
   ],
   "source": [
    "# 계산 중간 결과를 저장하고 싶다면 accumulate\n",
    "np.add.accumulate(x)"
   ]
  },
  {
   "cell_type": "code",
   "execution_count": 74,
   "id": "cd6aacfa",
   "metadata": {},
   "outputs": [
    {
     "data": {
      "text/plain": [
       "array([  1,   2,   6,  24, 120])"
      ]
     },
     "execution_count": 74,
     "metadata": {},
     "output_type": "execute_result"
    }
   ],
   "source": [
    "np.multiply.accumulate(x)"
   ]
  },
  {
   "cell_type": "code",
   "execution_count": 76,
   "id": "7a6765fc",
   "metadata": {},
   "outputs": [
    {
     "data": {
      "text/plain": [
       "array([[ 1,  2,  3,  4,  5],\n",
       "       [ 2,  4,  6,  8, 10],\n",
       "       [ 3,  6,  9, 12, 15],\n",
       "       [ 4,  8, 12, 16, 20],\n",
       "       [ 5, 10, 15, 20, 25]])"
      ]
     },
     "execution_count": 76,
     "metadata": {},
     "output_type": "execute_result"
    }
   ],
   "source": [
    "# 외적 : 서로 다른 입력값의 모든 쌍에 대한 출력값을 계산\n",
    "# 아래는 행렬의 곱셈을 한줄로 표현\n",
    "x = np.arange(1, 6)\n",
    "np.multiply.outer(x, x)"
   ]
  },
  {
   "cell_type": "markdown",
   "id": "cf15040a",
   "metadata": {},
   "source": [
    "### 집계 : 최솟값, 최대값, 그리고 그 사이의 모든 것"
   ]
  },
  {
   "cell_type": "code",
   "execution_count": 79,
   "id": "ed123a5b",
   "metadata": {},
   "outputs": [
    {
     "data": {
      "text/plain": [
       "(53.055567585584036, 53.055567585584015)"
      ]
     },
     "execution_count": 79,
     "metadata": {},
     "output_type": "execute_result"
    }
   ],
   "source": [
    "# 배열의 합\n",
    "L = np.random.random(100)\n",
    "sum(L), np.sum(L)"
   ]
  },
  {
   "cell_type": "code",
   "execution_count": 81,
   "id": "40c8a9da",
   "metadata": {},
   "outputs": [
    {
     "name": "stdout",
     "output_type": "stream",
     "text": [
      "52.7 ms ± 279 µs per loop (mean ± std. dev. of 7 runs, 10 loops each)\n",
      "516 µs ± 13.6 µs per loop (mean ± std. dev. of 7 runs, 1,000 loops each)\n"
     ]
    }
   ],
   "source": [
    "# 둘은 같은 값을 반환하지만 np가 훨씬 빠르다\n",
    "big_array = np.random.random(1000000)\n",
    "%timeit sum(big_array)\n",
    "%timeit np.sum(big_array)"
   ]
  },
  {
   "cell_type": "code",
   "execution_count": 82,
   "id": "45890ebe",
   "metadata": {},
   "outputs": [
    {
     "data": {
      "text/plain": [
       "(1.110355322908596e-06, 0.9999964860593408)"
      ]
     },
     "execution_count": 82,
     "metadata": {},
     "output_type": "execute_result"
    }
   ],
   "source": [
    "# Python에도 내장 min, max가 있지만 np.min, np.max가 더빠름\n",
    "np.min(big_array), np.max(big_array)"
   ]
  },
  {
   "cell_type": "code",
   "execution_count": 83,
   "id": "9000ff01",
   "metadata": {},
   "outputs": [
    {
     "name": "stdout",
     "output_type": "stream",
     "text": [
      "32 ms ± 188 µs per loop (mean ± std. dev. of 7 runs, 10 loops each)\n",
      "237 µs ± 7.36 µs per loop (mean ± std. dev. of 7 runs, 1,000 loops each)\n"
     ]
    }
   ],
   "source": [
    "%timeit min(big_array)\n",
    "%timeit np.min(big_array)"
   ]
  },
  {
   "cell_type": "code",
   "execution_count": 85,
   "id": "fcb0c577",
   "metadata": {},
   "outputs": [
    {
     "name": "stdout",
     "output_type": "stream",
     "text": [
      "1.110355322908596e-06 0.9999964860593408 500010.62756714056\n"
     ]
    }
   ],
   "source": [
    "# Numpy 집계함수의 경우 배열 객체 자체의 메서드를 사용하는 구문이 있다.\n",
    "print(big_array.min(), big_array.max(), big_array.sum())"
   ]
  },
  {
   "cell_type": "code",
   "execution_count": 87,
   "id": "699bb073",
   "metadata": {},
   "outputs": [
    {
     "data": {
      "text/plain": [
       "array([[0.30549191, 0.11410842, 0.44817836, 0.94918262],\n",
       "       [0.49703539, 0.1593739 , 0.92097589, 0.19102648],\n",
       "       [0.86718059, 0.47972167, 0.39824375, 0.47058807]])"
      ]
     },
     "execution_count": 87,
     "metadata": {},
     "output_type": "execute_result"
    }
   ],
   "source": [
    "# 다차원 집계\n",
    "M = np.random.random((3, 4))\n",
    "M"
   ]
  },
  {
   "cell_type": "code",
   "execution_count": 88,
   "id": "d1104723",
   "metadata": {},
   "outputs": [
    {
     "data": {
      "text/plain": [
       "5.801107063312064"
      ]
     },
     "execution_count": 88,
     "metadata": {},
     "output_type": "execute_result"
    }
   ],
   "source": [
    "M.sum()"
   ]
  },
  {
   "cell_type": "code",
   "execution_count": 89,
   "id": "21d97fec",
   "metadata": {},
   "outputs": [
    {
     "data": {
      "text/plain": [
       "array([0.30549191, 0.11410842, 0.39824375, 0.19102648])"
      ]
     },
     "execution_count": 89,
     "metadata": {},
     "output_type": "execute_result"
    }
   ],
   "source": [
    "# 다차원 집계함수는 어느축(axis)를 따라 집계할 것인지를 지정하는 추가적인 인수를 취함\n",
    "# 예를 들어 각 열의 최솟값을 찾으려면 axis = 0 지정\n",
    "M.min(axis=0)"
   ]
  },
  {
   "cell_type": "code",
   "execution_count": 90,
   "id": "2e72c8ad",
   "metadata": {},
   "outputs": [
    {
     "data": {
      "text/plain": [
       "array([0.94918262, 0.92097589, 0.86718059])"
      ]
     },
     "execution_count": 90,
     "metadata": {},
     "output_type": "execute_result"
    }
   ],
   "source": [
    "# axis=1 행의 최대값\n",
    "M.max(axis=1)"
   ]
  },
  {
   "cell_type": "code",
   "execution_count": 93,
   "id": "acce3a7f",
   "metadata": {},
   "outputs": [
    {
     "data": {
      "text/plain": [
       "array([[ 1,  2,  3,  4],\n",
       "       [ 5,  6,  7,  8],\n",
       "       [ 9, 10, 11, 12]])"
      ]
     },
     "execution_count": 93,
     "metadata": {},
     "output_type": "execute_result"
    }
   ],
   "source": [
    "data = np.arange(1, 13).reshape((3,4))\n",
    "data"
   ]
  },
  {
   "cell_type": "code",
   "execution_count": 96,
   "id": "3aef5fe9",
   "metadata": {},
   "outputs": [
    {
     "data": {
      "text/plain": [
       "(78, array([15, 18, 21, 24]), array([10, 26, 42]))"
      ]
     },
     "execution_count": 96,
     "metadata": {},
     "output_type": "execute_result"
    }
   ],
   "source": [
    "data.sum(), data.sum(axis=0), data.sum(axis=1)"
   ]
  },
  {
   "cell_type": "code",
   "execution_count": 97,
   "id": "beb13569",
   "metadata": {},
   "outputs": [
    {
     "data": {
      "text/plain": [
       "array([4, 2, 6, 8, 0, 8, 8, 0, 9, 4, 4, 6, 1, 4, 5, 9, 3, 3, 2, 6, 5, 1,\n",
       "       9, 0, 9, 3, 2, 3, 9, 8, 9, 1])"
      ]
     },
     "execution_count": 97,
     "metadata": {},
     "output_type": "execute_result"
    }
   ],
   "source": [
    "values = np.random.randint(0, 10, 32)\n",
    "values"
   ]
  },
  {
   "cell_type": "code",
   "execution_count": 98,
   "id": "0c2b64f9",
   "metadata": {},
   "outputs": [
    {
     "data": {
      "text/plain": [
       "array([0, 0, 0, 1, 1, 1, 2, 2, 2, 3, 3, 3, 3, 4, 4, 4, 4, 5, 5, 6, 6, 6,\n",
       "       8, 8, 8, 8, 9, 9, 9, 9, 9, 9])"
      ]
     },
     "execution_count": 98,
     "metadata": {},
     "output_type": "execute_result"
    }
   ],
   "source": [
    "np.sort(values)"
   ]
  },
  {
   "cell_type": "code",
   "execution_count": 99,
   "id": "1450b51a",
   "metadata": {},
   "outputs": [
    {
     "data": {
      "text/plain": [
       "array([ 4, 23,  7, 31, 21, 12,  1, 26, 18, 27, 25, 17, 16,  0, 10,  9, 13,\n",
       "       14, 20, 11, 19,  2, 29,  6,  5,  3, 28, 22,  8, 30, 24, 15],\n",
       "      dtype=int64)"
      ]
     },
     "execution_count": 99,
     "metadata": {},
     "output_type": "execute_result"
    }
   ],
   "source": [
    "np.argsort(values)\n",
    "# sort하기전의 위치를 반환"
   ]
  },
  {
   "cell_type": "markdown",
   "id": "11352ac9",
   "metadata": {},
   "source": [
    "## Practice2"
   ]
  },
  {
   "cell_type": "code",
   "execution_count": 105,
   "id": "4c41f0cd",
   "metadata": {},
   "outputs": [
    {
     "name": "stdout",
     "output_type": "stream",
     "text": [
      "order,name,height(cm)\n",
      "1,George Washington,189\n",
      "2,John Adams,170\n",
      "3,Thomas Jefferson,189\n",
      "4,James Madison,163\n",
      "5,James Monroe,183\n",
      "6,John Quincy Adams,171\n",
      "7,Andrew Jackson,185\n",
      "8,Martin Van Buren,168\n",
      "9,William Henry Harrison,173\n",
      "10,John Tyler,183\n",
      "11,James K. Polk,173\n",
      "12,Zachary Taylor,173\n",
      "13,Millard Fillmore,175\n",
      "14,Franklin Pierce,178\n",
      "15,James Buchanan,183\n",
      "16,Abraham Lincoln,193\n",
      "17,Andrew Johnson,178\n",
      "18,Ulysses S. Grant,173\n",
      "19,Rutherford B. Hayes,174\n",
      "20,James A. Garfield,183\n",
      "21,Chester A. Arthur,183\n",
      "23,Benjamin Harrison,168\n",
      "25,William McKinley,170\n",
      "26,Theodore Roosevelt,178\n",
      "27,William Howard Taft,182\n",
      "28,Woodrow Wilson,180\n",
      "29,Warren G. Harding,183\n",
      "30,Calvin Coolidge,178\n",
      "31,Herbert Hoover,182\n",
      "32,Franklin D. Roosevelt,188\n",
      "33,Harry S. Truman,175\n",
      "34,Dwight D. Eisenhower,179\n",
      "35,John F. Kennedy,183\n",
      "36,Lyndon B. Johnson,193\n",
      "37,Richard Nixon,182\n",
      "38,Gerald Ford,183\n",
      "39,Jimmy Carter,177\n",
      "40,Ronald Reagan,185\n",
      "41,George H. W. Bush,188\n",
      "42,Bill Clinton,188\n",
      "43,George W. Bush,182\n",
      "44,Barack Obama,185\n"
     ]
    }
   ],
   "source": [
    "!type data\\president_heights.csv"
   ]
  },
  {
   "cell_type": "code",
   "execution_count": 103,
   "id": "b92355d4",
   "metadata": {},
   "outputs": [
    {
     "name": "stdout",
     "output_type": "stream",
     "text": [
      "['1,George', 'Washington,189']\n",
      "['2,John', 'Adams,170']\n",
      "['3,Thomas', 'Jefferson,189']\n",
      "['4,James', 'Madison,163']\n",
      "['5,James', 'Monroe,183']\n",
      "['6,John', 'Quincy', 'Adams,171']\n",
      "['7,Andrew', 'Jackson,185']\n",
      "['8,Martin', 'Van', 'Buren,168']\n",
      "['9,William', 'Henry', 'Harrison,173']\n",
      "['10,John', 'Tyler,183']\n",
      "['11,James', 'K.', 'Polk,173']\n",
      "['12,Zachary', 'Taylor,173']\n",
      "['13,Millard', 'Fillmore,175']\n",
      "['14,Franklin', 'Pierce,178']\n",
      "['15,James', 'Buchanan,183']\n",
      "['16,Abraham', 'Lincoln,193']\n",
      "['17,Andrew', 'Johnson,178']\n",
      "['18,Ulysses', 'S.', 'Grant,173']\n",
      "['19,Rutherford', 'B.', 'Hayes,174']\n",
      "['20,James', 'A.', 'Garfield,183']\n",
      "['21,Chester', 'A.', 'Arthur,183']\n",
      "['23,Benjamin', 'Harrison,168']\n",
      "['25,William', 'McKinley,170']\n",
      "['26,Theodore', 'Roosevelt,178']\n",
      "['27,William', 'Howard', 'Taft,182']\n",
      "['28,Woodrow', 'Wilson,180']\n",
      "['29,Warren', 'G.', 'Harding,183']\n",
      "['30,Calvin', 'Coolidge,178']\n",
      "['31,Herbert', 'Hoover,182']\n",
      "['32,Franklin', 'D.', 'Roosevelt,188']\n",
      "['33,Harry', 'S.', 'Truman,175']\n",
      "['34,Dwight', 'D.', 'Eisenhower,179']\n",
      "['35,John', 'F.', 'Kennedy,183']\n",
      "['36,Lyndon', 'B.', 'Johnson,193']\n",
      "['37,Richard', 'Nixon,182']\n",
      "['38,Gerald', 'Ford,183']\n",
      "['39,Jimmy', 'Carter,177']\n",
      "['40,Ronald', 'Reagan,185']\n",
      "['41,George', 'H.', 'W.', 'Bush,188']\n",
      "['42,Bill', 'Clinton,188']\n",
      "['43,George', 'W.', 'Bush,182']\n",
      "['44,Barack', 'Obama,185']\n",
      "['45,Donald', 'Trump,191']\n",
      "['46,Joseph', 'Biden,182']\n"
     ]
    },
    {
     "data": {
      "text/plain": [
       "(180.04545454545453, numpy.float64)"
      ]
     },
     "execution_count": 103,
     "metadata": {},
     "output_type": "execute_result"
    }
   ],
   "source": [
    "with open('data/president_heights.csv') as f:\n",
    "\n",
    "    f.readline()\n",
    "\n",
    "    heights=[]\n",
    "\n",
    "    for line in f.readlines():\n",
    "\n",
    "        print(line.rstrip().split())\n",
    "\n",
    "        heights.append(int(line.rstrip().split(',')[-1]))\n",
    "\n",
    "\n",
    "\n",
    "heights_np = np.asarray(heights)\n",
    "\n",
    "np.average(heights_np), type(np.average(heights_np))"
   ]
  },
  {
   "cell_type": "code",
   "execution_count": 107,
   "id": "373c4020",
   "metadata": {},
   "outputs": [
    {
     "data": {
      "text/plain": [
       "(array([ 1.,  2.,  3.,  5.,  3.,  6., 13.,  3.,  5.,  3.]),\n",
       " array([163., 166., 169., 172., 175., 178., 181., 184., 187., 190., 193.]),\n",
       " <BarContainer object of 10 artists>)"
      ]
     },
     "execution_count": 107,
     "metadata": {},
     "output_type": "execute_result"
    },
    {
     "data": {
      "image/png": "[encoded data removed]",
      "text/plain": [
       "<Figure size 640x480 with 1 Axes>"
      ]
     },
     "metadata": {},
     "output_type": "display_data"
    }
   ],
   "source": [
    "import matplotlib.pyplot as plt\n",
    "plt.hist(heights_np)"
   ]
  },
  {
   "cell_type": "markdown",
   "id": "58028838",
   "metadata": {},
   "source": [
    "### 브로드 캐스팅"
   ]
  },
  {
   "cell_type": "code",
   "execution_count": 108,
   "id": "68722b8c",
   "metadata": {},
   "outputs": [
    {
     "data": {
      "text/plain": [
       "array([5, 6, 7])"
      ]
     },
     "execution_count": 108,
     "metadata": {},
     "output_type": "execute_result"
    }
   ],
   "source": [
    "a = np.array([0, 1, 2])\n",
    "b = np.array([5, 5, 5])\n",
    "a+b"
   ]
  },
  {
   "cell_type": "code",
   "execution_count": 109,
   "id": "54b6dff3",
   "metadata": {},
   "outputs": [
    {
     "data": {
      "text/plain": [
       "array([5, 6, 7])"
      ]
     },
     "execution_count": 109,
     "metadata": {},
     "output_type": "execute_result"
    }
   ],
   "source": [
    "a +5"
   ]
  },
  {
   "cell_type": "code",
   "execution_count": 110,
   "id": "bc9c2dfc",
   "metadata": {},
   "outputs": [],
   "source": [
    "M = np.ones((3,3))"
   ]
  },
  {
   "cell_type": "code",
   "execution_count": 111,
   "id": "6314bf4b",
   "metadata": {},
   "outputs": [
    {
     "data": {
      "text/plain": [
       "array([[1., 1., 1.],\n",
       "       [1., 1., 1.],\n",
       "       [1., 1., 1.]])"
      ]
     },
     "execution_count": 111,
     "metadata": {},
     "output_type": "execute_result"
    }
   ],
   "source": [
    "M"
   ]
  },
  {
   "cell_type": "code",
   "execution_count": 112,
   "id": "b06497bd",
   "metadata": {},
   "outputs": [
    {
     "data": {
      "text/plain": [
       "array([[1., 2., 3.],\n",
       "       [1., 2., 3.],\n",
       "       [1., 2., 3.]])"
      ]
     },
     "execution_count": 112,
     "metadata": {},
     "output_type": "execute_result"
    }
   ],
   "source": [
    "M+a"
   ]
  },
  {
   "cell_type": "code",
   "execution_count": 115,
   "id": "964b0fbf",
   "metadata": {},
   "outputs": [
    {
     "data": {
      "text/plain": [
       "array([[0, 1, 2],\n",
       "       [1, 2, 3],\n",
       "       [2, 3, 4]])"
      ]
     },
     "execution_count": 115,
     "metadata": {},
     "output_type": "execute_result"
    }
   ],
   "source": [
    "a  = np.arange(3) # 가로로 만들고\n",
    "b = np.arange(3)[:, np.newaxis] # 세로로 만들고\n",
    "a, b\n",
    "a+b # 두개를 합치면 2차원 배열로 확장된다!"
   ]
  },
  {
   "cell_type": "markdown",
   "id": "44633aa3",
   "metadata": {},
   "source": [
    "### 브로드캐스팅 규칙\n",
    "> 1. 두 배열의 차원이 다르면 더 작은 차원을 가진 배열 형상의 앞쪽(왼쪽)을 1로 채운다.\n",
    "> 2. 두 배열의 형상이 어떤 차원에서도 일치하지 않는다면 해당 차원의 형상이 1인 배열이 다른형상과 일치하도록 늘어난다.\n",
    "> 3. 임의의 차원에서 크기가 일치하지 않고 1도 아니라면 오류가 발생한다."
   ]
  },
  {
   "cell_type": "code",
   "execution_count": 116,
   "id": "49393433",
   "metadata": {},
   "outputs": [
    {
     "data": {
      "text/plain": [
       "array([[1., 2., 3.],\n",
       "       [1., 2., 3.]])"
      ]
     },
     "execution_count": 116,
     "metadata": {},
     "output_type": "execute_result"
    }
   ],
   "source": [
    "# 예제1\n",
    "M = np.ones((2,3))\n",
    "a = np.arange(3)\n",
    "M+ a"
   ]
  },
  {
   "cell_type": "code",
   "execution_count": 118,
   "id": "f4b9bfb8",
   "metadata": {},
   "outputs": [
    {
     "data": {
      "text/plain": [
       "array([[0, 1, 2],\n",
       "       [1, 2, 3],\n",
       "       [2, 3, 4]])"
      ]
     },
     "execution_count": 118,
     "metadata": {},
     "output_type": "execute_result"
    }
   ],
   "source": [
    "# 예제2\n",
    "a = np.arange(3).reshape((3,1))\n",
    "b = np.arange(3)\n",
    "a + b"
   ]
  },
  {
   "cell_type": "code",
   "execution_count": 122,
   "id": "b0cce4c9",
   "metadata": {},
   "outputs": [
    {
     "ename": "ValueError",
     "evalue": "operands could not be broadcast together with shapes (3,2) (3,) ",
     "output_type": "error",
     "traceback": [
      "\u001b[1;31m---------------------------------------------------------------------------\u001b[0m",
      "\u001b[1;31mValueError\u001b[0m                                Traceback (most recent call last)",
      "Cell \u001b[1;32mIn[122], line 4\u001b[0m\n\u001b[0;32m      2\u001b[0m M \u001b[38;5;241m=\u001b[39m np\u001b[38;5;241m.\u001b[39mones((\u001b[38;5;241m3\u001b[39m,\u001b[38;5;241m2\u001b[39m))\n\u001b[0;32m      3\u001b[0m a \u001b[38;5;241m=\u001b[39m np\u001b[38;5;241m.\u001b[39marange(\u001b[38;5;241m3\u001b[39m)\n\u001b[1;32m----> 4\u001b[0m \u001b[43mM\u001b[49m\u001b[38;5;241;43m+\u001b[39;49m\u001b[43ma\u001b[49m\n",
      "\u001b[1;31mValueError\u001b[0m: operands could not be broadcast together with shapes (3,2) (3,) "
     ]
    }
   ],
   "source": [
    "# 예제3 호환되지 않는경우\n",
    "M = np.ones((3,2))\n",
    "a = np.arange(3)\n",
    "M+a"
   ]
  },
  {
   "cell_type": "code",
   "execution_count": 123,
   "id": "35c0f6ff",
   "metadata": {},
   "outputs": [
    {
     "data": {
      "text/plain": [
       "array([0.42203002, 0.56715233, 0.58526807])"
      ]
     },
     "execution_count": 123,
     "metadata": {},
     "output_type": "execute_result"
    }
   ],
   "source": [
    "# 실전 브로드 캐스팅\n",
    "X = np.random.random((10,3))\n",
    "Xmean = X.mean(0)\n",
    "Xmean"
   ]
  },
  {
   "cell_type": "code",
   "execution_count": 125,
   "id": "778db7e2",
   "metadata": {},
   "outputs": [
    {
     "data": {
      "text/plain": [
       "array([-8.88178420e-17, -3.33066907e-17,  5.55111512e-17])"
      ]
     },
     "execution_count": 125,
     "metadata": {},
     "output_type": "execute_result"
    }
   ],
   "source": [
    "X_centered = X - Xmean\n",
    "X_centered.mean(0)"
   ]
  },
  {
   "cell_type": "code",
   "execution_count": 126,
   "id": "de285194",
   "metadata": {},
   "outputs": [],
   "source": [
    "# x와 y는 0에서 5까지 50단계로 나눈 배열임\n",
    "x = np.linspace(0, 5, 50)\n",
    "y = np.linspace(0, 5, 50)[:, np.newaxis]\n",
    "z= np.sin(x) ** 10 + np.cos(10+y*x) * np.cos(x)"
   ]
  },
  {
   "cell_type": "code",
   "execution_count": 128,
   "id": "801c8a02",
   "metadata": {},
   "outputs": [],
   "source": [
    "%matplotlib inline\n",
    "import matplotlib.pyplot as plt"
   ]
  },
  {
   "cell_type": "code",
   "execution_count": 130,
   "id": "56d1456c",
   "metadata": {},
   "outputs": [
    {
     "data": {
      "text/plain": [
       "<function matplotlib.pyplot.colorbar(mappable: 'ScalarMappable | None' = None, cax: 'matplotlib.axes.Axes | None' = None, ax: 'matplotlib.axes.Axes | Iterable[matplotlib.axes.Axes] | None' = None, **kwargs) -> 'Colorbar'>"
      ]
     },
     "execution_count": 130,
     "metadata": {},
     "output_type": "execute_result"
    },
    {
     "data": {
      "image/png": "[encoded data removed]",
      "text/plain": [
       "<Figure size 640x480 with 1 Axes>"
      ]
     },
     "metadata": {},
     "output_type": "display_data"
    }
   ],
   "source": [
    "plt.imshow(z, origin='lower', extent=[0, 5, 0, 5], cmap='viridis')\n",
    "plt.colorbar"
   ]
  },
  {
   "cell_type": "markdown",
   "id": "9f910e65",
   "metadata": {},
   "source": [
    "### 비교, 마스크, 부울 로직"
   ]
  },
  {
   "cell_type": "code",
   "execution_count": 132,
   "id": "9753f329",
   "metadata": {},
   "outputs": [
    {
     "data": {
      "text/plain": [
       "(365,)"
      ]
     },
     "execution_count": 132,
     "metadata": {},
     "output_type": "execute_result"
    }
   ],
   "source": [
    "#예제 : 비온 날 세기\n",
    "import numpy as np\n",
    "import pandas as pd\n",
    "# pandas를 이용해 인치단위의 강수량 데이터를 Numpy 배열로 추출\n",
    "rainfall = pd.read_csv('data/Seattle2014.csv')['PRCP'].values\n",
    "inches = rainfall / 254 # 1/10mm -> inches\n",
    "inches.shape"
   ]
  },
  {
   "cell_type": "code",
   "execution_count": 135,
   "id": "b295e6f7",
   "metadata": {},
   "outputs": [
    {
     "data": {
      "text/plain": [
       "(array([245.,  14.,  13.,  17.,   8.,   6.,   5.,   6.,   4.,   3.,   7.,\n",
       "          6.,   3.,   3.,   3.,   4.,   4.,   2.,   4.,   0.,   0.,   1.,\n",
       "          1.,   1.,   0.,   0.,   0.,   2.,   1.,   1.,   0.,   0.,   0.,\n",
       "          0.,   0.,   0.,   0.,   0.,   0.,   1.]),\n",
       " array([0.        , 0.04596457, 0.09192913, 0.1378937 , 0.18385827,\n",
       "        0.22982283, 0.2757874 , 0.32175197, 0.36771654, 0.4136811 ,\n",
       "        0.45964567, 0.50561024, 0.5515748 , 0.59753937, 0.64350394,\n",
       "        0.6894685 , 0.73543307, 0.78139764, 0.8273622 , 0.87332677,\n",
       "        0.91929134, 0.96525591, 1.01122047, 1.05718504, 1.10314961,\n",
       "        1.14911417, 1.19507874, 1.24104331, 1.28700787, 1.33297244,\n",
       "        1.37893701, 1.42490157, 1.47086614, 1.51683071, 1.56279528,\n",
       "        1.60875984, 1.65472441, 1.70068898, 1.74665354, 1.79261811,\n",
       "        1.83858268]),\n",
       " <BarContainer object of 40 artists>)"
      ]
     },
     "execution_count": 135,
     "metadata": {},
     "output_type": "execute_result"
    },
    {
     "data": {
      "image/png": "[encoded data removed]",
      "text/plain": [
       "<Figure size 640x480 with 1 Axes>"
      ]
     },
     "metadata": {},
     "output_type": "display_data"
    }
   ],
   "source": [
    "%matplotlib inline\n",
    "import seaborn\n",
    "seaborn.set()\n",
    "plt.hist(inches, 40)"
   ]
  },
  {
   "cell_type": "code",
   "execution_count": 136,
   "id": "c9c393dd",
   "metadata": {},
   "outputs": [
    {
     "data": {
      "text/plain": [
       "array([ True,  True, False, False, False])"
      ]
     },
     "execution_count": 136,
     "metadata": {},
     "output_type": "execute_result"
    }
   ],
   "source": [
    "# 비교연산자 가능\n",
    "x = np.array([1, 2, 3, 4, 5])\n",
    "x < 3"
   ]
  },
  {
   "cell_type": "code",
   "execution_count": 137,
   "id": "ee86d2f5",
   "metadata": {},
   "outputs": [
    {
     "data": {
      "text/plain": [
       "array([False,  True, False, False, False])"
      ]
     },
     "execution_count": 137,
     "metadata": {},
     "output_type": "execute_result"
    }
   ],
   "source": [
    "# 복합표현식도 가능\n",
    "(2 * x) == (x ** 2)"
   ]
  },
  {
   "cell_type": "code",
   "execution_count": 138,
   "id": "0b0a1b03",
   "metadata": {},
   "outputs": [
    {
     "data": {
      "text/plain": [
       "array([[5, 0, 3, 3],\n",
       "       [7, 9, 3, 5],\n",
       "       [2, 4, 7, 6]])"
      ]
     },
     "execution_count": 138,
     "metadata": {},
     "output_type": "execute_result"
    }
   ],
   "source": [
    "rng = np.random.RandomState(0)\n",
    "x = rng.randint(10, size=(3,4))\n",
    "x"
   ]
  },
  {
   "cell_type": "code",
   "execution_count": 139,
   "id": "b3c119d7",
   "metadata": {},
   "outputs": [
    {
     "data": {
      "text/plain": [
       "array([[ True,  True,  True,  True],\n",
       "       [False, False,  True,  True],\n",
       "       [ True,  True, False, False]])"
      ]
     },
     "execution_count": 139,
     "metadata": {},
     "output_type": "execute_result"
    }
   ],
   "source": [
    "x < 6"
   ]
  },
  {
   "cell_type": "code",
   "execution_count": 140,
   "id": "b595a871",
   "metadata": {},
   "outputs": [
    {
     "name": "stdout",
     "output_type": "stream",
     "text": [
      "[[5 0 3 3]\n",
      " [7 9 3 5]\n",
      " [2 4 7 6]]\n"
     ]
    }
   ],
   "source": [
    "print(x)"
   ]
  },
  {
   "cell_type": "code",
   "execution_count": 141,
   "id": "6f94c53d",
   "metadata": {},
   "outputs": [
    {
     "data": {
      "text/plain": [
       "8"
      ]
     },
     "execution_count": 141,
     "metadata": {},
     "output_type": "execute_result"
    }
   ],
   "source": [
    "# count_nonzero  == np.sum(x<6)\n",
    "np.count_nonzero(x<6)"
   ]
  },
  {
   "cell_type": "code",
   "execution_count": 143,
   "id": "3627af65",
   "metadata": {},
   "outputs": [
    {
     "data": {
      "text/plain": [
       "array([4, 2, 2])"
      ]
     },
     "execution_count": 143,
     "metadata": {},
     "output_type": "execute_result"
    }
   ],
   "source": [
    "# sum의 장점은 axis 변환 가능\n",
    "np.sum(x < 6, axis=1)"
   ]
  },
  {
   "cell_type": "code",
   "execution_count": 144,
   "id": "21abbd96",
   "metadata": {},
   "outputs": [
    {
     "data": {
      "text/plain": [
       "True"
      ]
     },
     "execution_count": 144,
     "metadata": {},
     "output_type": "execute_result"
    }
   ],
   "source": [
    "# 하나라도 있는가 / axis 사용 가능\n",
    "np.any(x>8)"
   ]
  },
  {
   "cell_type": "code",
   "execution_count": 145,
   "id": "5891d3c8",
   "metadata": {},
   "outputs": [
    {
     "data": {
      "text/plain": [
       "False"
      ]
     },
     "execution_count": 145,
     "metadata": {},
     "output_type": "execute_result"
    }
   ],
   "source": [
    "# 모든 값에 대해 / axis 사용 가능\n",
    "np.all(x>10)"
   ]
  },
  {
   "cell_type": "code",
   "execution_count": 146,
   "id": "89fba4f7",
   "metadata": {},
   "outputs": [
    {
     "data": {
      "text/plain": [
       "29"
      ]
     },
     "execution_count": 146,
     "metadata": {},
     "output_type": "execute_result"
    }
   ],
   "source": [
    "# boolean 연산자(부울연산자)\n",
    "np.sum((inches > 0.5) * (inches < 1))"
   ]
  },
  {
   "cell_type": "code",
   "execution_count": 147,
   "id": "60692672",
   "metadata": {},
   "outputs": [
    {
     "data": {
      "text/plain": [
       "29"
      ]
     },
     "execution_count": 147,
     "metadata": {},
     "output_type": "execute_result"
    }
   ],
   "source": [
    "# a and b == not(a or b)\n",
    "np.sum(~((inches <=0.5)| (inches >=1)))"
   ]
  },
  {
   "cell_type": "code",
   "execution_count": 148,
   "id": "39646f66",
   "metadata": {},
   "outputs": [
    {
     "name": "stdout",
     "output_type": "stream",
     "text": [
      "Number days without rain :    215\n",
      "Number days with rain :    150\n",
      "Days with more than0.5inches :    37\n",
      "Rainy days with < 0.1inches :    75\n"
     ]
    }
   ],
   "source": [
    "print(\"Number days without rain :   \", np.sum(inches==0))\n",
    "print(\"Number days with rain :   \", np.sum(inches!=0))\n",
    "print(\"Days with more than0.5inches :   \", np.sum(inches>0.5))\n",
    "print(\"Rainy days with < 0.1inches :   \", np.sum((inches > 0)&(inches < 0.2)))"
   ]
  },
  {
   "cell_type": "code",
   "execution_count": 150,
   "id": "16aab086",
   "metadata": {},
   "outputs": [
    {
     "data": {
      "text/plain": [
       "array([0, 3, 3, 3, 2, 4])"
      ]
     },
     "execution_count": 150,
     "metadata": {},
     "output_type": "execute_result"
    }
   ],
   "source": [
    "# 마스킹 연산 : 부울 배열을 인덱스로 사용하는 연산\n",
    "x[x<5]"
   ]
  },
  {
   "cell_type": "code",
   "execution_count": 154,
   "id": "d8c2a758",
   "metadata": {},
   "outputs": [
    {
     "name": "stdout",
     "output_type": "stream",
     "text": [
      "Median precip on rainy days in 2014 (inches)  0.19488188976377951\n",
      "Median precip on summer days in 2014 (inches)  0.0\n",
      "Maximun precip on summer days in 2014 (inches)  0.8503937007874016\n",
      "Median precip on non-summer rainy days in 2014 (inches)  0.20078740157480315\n"
     ]
    }
   ],
   "source": [
    "# 비가 온 모든 날에 대한 마스크 생성\n",
    "rainy = (inches > 0)\n",
    "# 여름에 해당하는 날에 대한 마스크 생성(6월 21은 172번째 날임)\n",
    "summer = (np.arange(365)-172 < 90) &(np.arange(365)-172>0)\n",
    "print(\"Median precip on rainy days in 2014 (inches) \", np.median(inches[rainy]))\n",
    "print(\"Median precip on summer days in 2014 (inches) \", np.median(inches[summer]))\n",
    "print(\"Maximun precip on summer days in 2014 (inches) \", np.max(inches[summer]))\n",
    "print(\"Median precip on non-summer rainy days in 2014 (inches) \", np.median(inches[rainy & ~summer]))\n"
   ]
  },
  {
   "cell_type": "markdown",
   "id": "183d49de",
   "metadata": {},
   "source": [
    "### 팬시 인덱싱\n",
    "> 한번에 여러 배열요소에 접근하기 위해 인덱스의 배열을 전달한다"
   ]
  },
  {
   "cell_type": "code",
   "execution_count": 156,
   "id": "f8fc4899",
   "metadata": {},
   "outputs": [
    {
     "name": "stdout",
     "output_type": "stream",
     "text": [
      "[51 92 14 71 60 20 82 86 74 74]\n"
     ]
    }
   ],
   "source": [
    "rand = np.random.RandomState(42)\n",
    "x= rand.randint(100, size=10)\n",
    "print(x)"
   ]
  },
  {
   "cell_type": "code",
   "execution_count": 158,
   "id": "44664104",
   "metadata": {},
   "outputs": [
    {
     "name": "stdout",
     "output_type": "stream",
     "text": [
      "[71, 86, 14]\n"
     ]
    },
    {
     "data": {
      "text/plain": [
       "array([71, 86, 14])"
      ]
     },
     "execution_count": 158,
     "metadata": {},
     "output_type": "execute_result"
    }
   ],
   "source": [
    "print([x[3], x[7], x[2]])\n",
    "ind = [3, 7, 2]\n",
    "x[ind]"
   ]
  },
  {
   "cell_type": "markdown",
   "id": "ef6c4006",
   "metadata": {},
   "source": [
    "### 결합 인덱싱"
   ]
  },
  {
   "cell_type": "code",
   "execution_count": 159,
   "id": "3b564825",
   "metadata": {},
   "outputs": [],
   "source": [
    "x = np.arange(12).reshape((3,4))"
   ]
  },
  {
   "cell_type": "code",
   "execution_count": 160,
   "id": "14a17871",
   "metadata": {},
   "outputs": [
    {
     "data": {
      "text/plain": [
       "array([10,  8,  9])"
      ]
     },
     "execution_count": 160,
     "metadata": {},
     "output_type": "execute_result"
    }
   ],
   "source": [
    "x[2, [2,0,1]]"
   ]
  },
  {
   "cell_type": "code",
   "execution_count": 166,
   "id": "453fcb4c",
   "metadata": {},
   "outputs": [
    {
     "ename": "IndexError",
     "evalue": "index 3 is out of bounds for axis 0 with size 3",
     "output_type": "error",
     "traceback": [
      "\u001b[1;31m---------------------------------------------------------------------------\u001b[0m",
      "\u001b[1;31mIndexError\u001b[0m                                Traceback (most recent call last)",
      "Cell \u001b[1;32mIn[166], line 3\u001b[0m\n\u001b[0;32m      1\u001b[0m mask \u001b[38;5;241m=\u001b[39m np\u001b[38;5;241m.\u001b[39marray([\u001b[38;5;241m1\u001b[39m, \u001b[38;5;241m0\u001b[39m, \u001b[38;5;241m1\u001b[39m, \u001b[38;5;241m0\u001b[39m], dtype\u001b[38;5;241m=\u001b[39m\u001b[38;5;28mbool\u001b[39m)\n\u001b[0;32m      2\u001b[0m row \u001b[38;5;241m=\u001b[39m np\u001b[38;5;241m.\u001b[39marray([\u001b[38;5;241m2\u001b[39m, \u001b[38;5;241m1\u001b[39m, \u001b[38;5;241m3\u001b[39m])\n\u001b[1;32m----> 3\u001b[0m \u001b[43mx\u001b[49m\u001b[43m[\u001b[49m\u001b[43mrow\u001b[49m\u001b[43m[\u001b[49m\u001b[43m:\u001b[49m\u001b[43m,\u001b[49m\u001b[43m \u001b[49m\u001b[43mnp\u001b[49m\u001b[38;5;241;43m.\u001b[39;49m\u001b[43mnewaxis\u001b[49m\u001b[43m]\u001b[49m\u001b[43m,\u001b[49m\u001b[43m \u001b[49m\u001b[43mmask\u001b[49m\u001b[43m]\u001b[49m\n",
      "\u001b[1;31mIndexError\u001b[0m: index 3 is out of bounds for axis 0 with size 3"
     ]
    }
   ],
   "source": [
    "mask = np.array([1, 0, 1, 0], dtype=bool)\n",
    "row = np.array([2, 1, 3])\n",
    "x[row[:, np.newaxis], mask]"
   ]
  },
  {
   "cell_type": "markdown",
   "id": "b9501d95",
   "metadata": {},
   "source": [
    "### Practice : 임의의 점 선택하기"
   ]
  },
  {
   "cell_type": "code",
   "execution_count": 167,
   "id": "50f23b6a",
   "metadata": {},
   "outputs": [
    {
     "data": {
      "text/plain": [
       "(100, 2)"
      ]
     },
     "execution_count": 167,
     "metadata": {},
     "output_type": "execute_result"
    }
   ],
   "source": [
    "mean = [0, 0]\n",
    "cov = [[1,2],\n",
    "       [2,5]]\n",
    "x= rand.multivariate_normal(mean, cov, 100)\n",
    "x.shape"
   ]
  },
  {
   "cell_type": "code",
   "execution_count": 169,
   "id": "f3186ce7",
   "metadata": {},
   "outputs": [
    {
     "data": {
      "text/plain": [
       "<matplotlib.collections.PathCollection at 0x1c0624d5340>"
      ]
     },
     "execution_count": 169,
     "metadata": {},
     "output_type": "execute_result"
    },
    {
     "data": {
      "image/png": "[encoded data removed]",
      "text/plain": [
       "<Figure size 640x480 with 1 Axes>"
      ]
     },
     "metadata": {},
     "output_type": "display_data"
    }
   ],
   "source": [
    "%matplotlib inline\n",
    "seaborn.set()\n",
    "plt.scatter(x[:,0], x[:, 1])"
   ]
  },
  {
   "cell_type": "code",
   "execution_count": 170,
   "id": "99cc85e3",
   "metadata": {},
   "outputs": [
    {
     "data": {
      "text/plain": [
       "array([97, 86, 92, 78,  8, 54, 31, 66, 37, 95, 25, 42,  5, 93, 51, 17,  1,\n",
       "       65, 76, 50])"
      ]
     },
     "execution_count": 170,
     "metadata": {},
     "output_type": "execute_result"
    }
   ],
   "source": [
    "indices = np.random.choice(x.shape[0], 20, replace=False)\n",
    "indices"
   ]
  },
  {
   "cell_type": "code",
   "execution_count": 171,
   "id": "fedbae28",
   "metadata": {},
   "outputs": [
    {
     "data": {
      "text/plain": [
       "(20, 2)"
      ]
     },
     "execution_count": 171,
     "metadata": {},
     "output_type": "execute_result"
    }
   ],
   "source": [
    "selection = x[indices] # 팬시 인덱싱사용\n",
    "selection.shape"
   ]
  },
  {
   "cell_type": "code",
   "execution_count": 180,
   "id": "dd93bc8d",
   "metadata": {},
   "outputs": [
    {
     "data": {
      "text/plain": [
       "<matplotlib.collections.PathCollection at 0x1c079725a00>"
      ]
     },
     "execution_count": 180,
     "metadata": {},
     "output_type": "execute_result"
    },
    {
     "data": {
      "image/png": "[encoded data removed]",
      "text/plain": [
       "<Figure size 640x480 with 1 Axes>"
      ]
     },
     "metadata": {},
     "output_type": "display_data"
    }
   ],
   "source": [
    "plt.scatter(x[:,0], x[:,1], alpha=0.3)\n",
    "plt.scatter(selection[:,0], selection[:,1], alpha=0.4 , s=200)"
   ]
  },
  {
   "cell_type": "markdown",
   "id": "474c0bca",
   "metadata": {},
   "source": [
    "### 펜시 인덱싱으로 값 변경하기"
   ]
  },
  {
   "cell_type": "code",
   "execution_count": 181,
   "id": "0a1ea697",
   "metadata": {},
   "outputs": [
    {
     "name": "stdout",
     "output_type": "stream",
     "text": [
      "[ 0 99 99  3 99  5  6  7 99  9]\n"
     ]
    }
   ],
   "source": [
    "x = np.arange(10)\n",
    "i = np.array([2, 1, 8, 4])\n",
    "x[i] = 99\n",
    "print(x)"
   ]
  },
  {
   "cell_type": "code",
   "execution_count": 183,
   "id": "c33b9bf2",
   "metadata": {},
   "outputs": [
    {
     "name": "stdout",
     "output_type": "stream",
     "text": [
      "[ 0 88 88  3 88  5  6  7 88  9]\n"
     ]
    }
   ],
   "source": [
    "x[i] -= 10\n",
    "print(x)"
   ]
  },
  {
   "cell_type": "code",
   "execution_count": 185,
   "id": "2492016e",
   "metadata": {},
   "outputs": [],
   "source": [
    "x = np.zeros(10)\n",
    "x[[0, 0]] = [4, 6]\n"
   ]
  },
  {
   "cell_type": "code",
   "execution_count": 186,
   "id": "90842b5a",
   "metadata": {},
   "outputs": [
    {
     "data": {
      "text/plain": [
       "array([6., 0., 1., 1., 1., 0., 0., 0., 0., 0.])"
      ]
     },
     "execution_count": 186,
     "metadata": {},
     "output_type": "execute_result"
    }
   ],
   "source": [
    "i = [2, 3, 3, 4, 4, 4]\n",
    "x[i] += 1 # 할당이기 때문에 4가 여러번 있어도 +1이 계속되지 않음!\n",
    "x"
   ]
  },
  {
   "cell_type": "code",
   "execution_count": 187,
   "id": "f6fbd474",
   "metadata": {},
   "outputs": [
    {
     "name": "stdout",
     "output_type": "stream",
     "text": [
      "[0. 0. 1. 2. 3. 0. 0. 0. 0. 0.]\n"
     ]
    }
   ],
   "source": [
    "x = np.zeros(10)\n",
    "np.add.at(x, i, 1) # x배열 y에 1을 더한다 / add.at을 하면 +1이 반복!\n",
    "print(x)"
   ]
  },
  {
   "cell_type": "markdown",
   "id": "46801ef0",
   "metadata": {},
   "source": [
    "### Practice : 데이터 구간화"
   ]
  },
  {
   "cell_type": "code",
   "execution_count": 188,
   "id": "bde4eaca",
   "metadata": {},
   "outputs": [],
   "source": [
    "np.random.seed(42)\n",
    "x = np.random.randn(100)\n",
    "# 직접 히스토그램 계산하기\n",
    "bins = np.linspace(-5,5,20)\n",
    "counts = np.zeros_like(bins)\n",
    "\n",
    "# 각 x에 대한 적절한 구간 찾기\n",
    "i = np.searchsorted(bins, x)\n",
    "\n",
    "# 각 구간에 1 더하기\n",
    "np.add.at(counts, i, 1)"
   ]
  },
  {
   "cell_type": "code",
   "execution_count": 196,
   "id": "9926d311",
   "metadata": {},
   "outputs": [
    {
     "data": {
      "text/plain": [
       "(array([ 0.,  0.,  0.,  0.,  1.,  3.,  7.,  9., 23., 22., 17., 10.,  7.,\n",
       "         1.,  0.,  0.,  0.,  0.,  0.]),\n",
       " array([-5.        , -4.47368421, -3.94736842, -3.42105263, -2.89473684,\n",
       "        -2.36842105, -1.84210526, -1.31578947, -0.78947368, -0.26315789,\n",
       "         0.26315789,  0.78947368,  1.31578947,  1.84210526,  2.36842105,\n",
       "         2.89473684,  3.42105263,  3.94736842,  4.47368421,  5.        ]),\n",
       " [<matplotlib.patches.Polygon at 0x1c07a37ef10>])"
      ]
     },
     "execution_count": 196,
     "metadata": {},
     "output_type": "execute_result"
    },
    {
     "data": {
      "image/png": "[encoded data removed]",
      "text/plain": [
       "<Figure size 640x480 with 1 Axes>"
      ]
     },
     "metadata": {},
     "output_type": "display_data"
    }
   ],
   "source": [
    "plt.hist(x, bins, histtype=\"step\")"
   ]
  },
  {
   "cell_type": "code",
   "execution_count": null,
   "id": "160fe006",
   "metadata": {},
   "outputs": [],
   "source": []
  }
 ],
 "metadata": {
  "kernelspec": {
   "display_name": "Python 3 (ipykernel)",
   "language": "python",
   "name": "python3"
  }
 },
 "nbformat": 4,
 "nbformat_minor": 5
}
